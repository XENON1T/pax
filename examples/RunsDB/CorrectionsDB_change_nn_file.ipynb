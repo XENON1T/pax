{
 "cells": [
  {
   "cell_type": "code",
   "execution_count": 1,
   "metadata": {
    "collapsed": false
   },
   "outputs": [],
   "source": [
    "import os\n",
    "import glob\n",
    "import socket\n",
    "import pymongo\n",
    "import getpass\n",
    "import datetime\n",
    "from pprint import pprint\n",
    "\n",
    "# Connect to database                                                                                                                                 \n",
    "uri = 'mongodb://corrections:%s@xenon1t-daq.lngs.infn.it:27017/run'\n",
    "uri = uri % os.environ.get('MONGO_CORRECTIONS_PASSWORD')\n",
    "client = pymongo.MongoClient(uri)\n",
    "db = client['run']\n",
    "collection = db['neural_network']"
   ]
  },
  {
   "cell_type": "code",
   "execution_count": 7,
   "metadata": {
    "collapsed": true
   },
   "outputs": [],
   "source": [
    "# Sort by latest creation time\n",
    "cursor = collection.find().sort(\"calculation_time\", -1)"
   ]
  },
  {
   "cell_type": "code",
   "execution_count": 8,
   "metadata": {
    "collapsed": false
   },
   "outputs": [
    {
     "name": "stdout",
     "output_type": "stream",
     "text": [
      "Bumping to version: 1.6\n"
     ]
    }
   ],
   "source": [
    "# Get and increment version number\n",
    "major_version_bump = False\n",
    "minor_version_bump = True\n",
    "\n",
    "major = 0\n",
    "minor = 0\n",
    "if cursor.count() != 0:\n",
    "    d = cursor[0]\n",
    "    major = int(d['version'].split('.')[0])\n",
    "    minor = int(d['version'].split('.')[1])\n",
    "if major_version_bump:\n",
    "    major += 1\n",
    "    minor = 0\n",
    "if minor_version_bump:\n",
    "    minor += 1\n",
    "version = (\"%i.%i\"%(major, minor))\n",
    "print ('Bumping to version:', version)"
   ]
  },
  {
   "cell_type": "code",
   "execution_count": 9,
   "metadata": {
    "collapsed": false
   },
   "outputs": [
    {
     "name": "stdout",
     "output_type": "stream",
     "text": [
      "{'calculation_time': datetime.datetime(2018, 7, 19, 16, 17, 39, 735797),\n",
      " 'correction': [{'field': 'neural_net_file',\n",
      "                 'max': 6386,\n",
      "                 'min': 0,\n",
      "                 'value': 'XENON1T_NN_v8_mc_v030_SR0_n15.npz'},\n",
      "                {'field': 'neural_net_file',\n",
      "                 'max': 18836,\n",
      "                 'min': 6386,\n",
      "                 'value': 'XENON1T_NN_v8_mc_v030_SR1_n15.npz'},\n",
      "                {'field': 'neural_net_file',\n",
      "                 'max': inf,\n",
      "                 'min': 18836,\n",
      "                 'value': 'XENON1T_NN_v8_mc_v030_20180613_postSR1.npz'}],\n",
      " 'user': 'pdeperio',\n",
      " 'version': '1.6'}\n"
     ]
    }
   ],
   "source": [
    "# Define document to insert\n",
    "doc = {\n",
    "    'correction': [\n",
    "        {'field': 'neural_net_file', 'value': 'XENON1T_NN_v8_mc_v030_SR0_n15.npz', 'min': 0, 'max': 6386},\n",
    "        {'field': 'neural_net_file', 'value': 'XENON1T_NN_v8_mc_v030_SR1_n15.npz', 'min': 6386, 'max': 18836},\n",
    "        {'field': 'neural_net_file', 'value': 'XENON1T_NN_v8_mc_v030_20180613_postSR1.npz', 'min': 18836, 'max': float(\"inf\")\n",
    "}\n",
    "    ],\n",
    "    'version': version,\n",
    "    'calculation_time': datetime.datetime.utcnow(),\n",
    "    'user': getpass.getuser()\n",
    "}\n",
    "pprint(doc)"
   ]
  },
  {
   "cell_type": "code",
   "execution_count": 10,
   "metadata": {
    "collapsed": false
   },
   "outputs": [
    {
     "name": "stdout",
     "output_type": "stream",
     "text": [
      "{'_id': ObjectId('5b50b9983c1233a82b633dbe'),\n",
      " 'calculation_time': datetime.datetime(2018, 7, 19, 16, 17, 21, 597000),\n",
      " 'correction': [{'field': 'neural_net_file',\n",
      "                 'max': 6386,\n",
      "                 'min': 0,\n",
      "                 'value': 'XENON1T_NN_v8_mc_v030_SR0_n15.npz'},\n",
      "                {'field': 'neural_net_file',\n",
      "                 'max': 18836,\n",
      "                 'min': 6386,\n",
      "                 'value': 'XENON1T_NN_v8_mc_v030_SR1_n15.npz'},\n",
      "                {'field': 'neural_net_file',\n",
      "                 'max': inf,\n",
      "                 'min': 18836,\n",
      "                 'value': 'XENON1T_NN_v8_mc_v030_20180613_postSR1.npz'}],\n",
      " 'user': 'pdeperio',\n",
      " 'version': '1.5'}\n",
      "{'_id': ObjectId('59cbb5a1620c7204e6c40ef3'),\n",
      " 'calculation_time': datetime.datetime(2017, 9, 27, 16, 28, 49, 864000),\n",
      " 'correction': [{'field': 'neural_net_file',\n",
      "                 'max': 6386,\n",
      "                 'min': 0,\n",
      "                 'value': 'NN_XENON1T_v8_mc_v030_sr0_n15.npz'},\n",
      "                {'field': 'neural_net_file',\n",
      "                 'max': inf,\n",
      "                 'min': 6386,\n",
      "                 'value': 'NN_XENON1T_v8_mc_v030_sr1_n15.npz'}],\n",
      " 'user': 'coderre',\n",
      " 'version': '1.4'}\n",
      "{'_id': ObjectId('595cbd98b4c97a5f67c74de2'),\n",
      " 'calculation_time': datetime.datetime(2017, 7, 5, 10, 21, 12, 777000),\n",
      " 'correction': [{'field': 'neural_net_file',\n",
      "                 'max': 6386.0,\n",
      "                 'min': 0.0,\n",
      "                 'value': 'NN_XENON1T_v5_n15.npz'},\n",
      "                {'field': 'neural_net_file',\n",
      "                 'max': inf,\n",
      "                 'min': 6386.0,\n",
      "                 'value': 'NN_XENON1T_v8_mc_v030_sr1_n15.npz'}],\n",
      " 'user': 'coderre',\n",
      " 'version': '1.1'}\n",
      "{'_id': ObjectId('59149067bfd841b0202f652b'),\n",
      " 'calculation_time': datetime.datetime(2017, 5, 11, 16, 25, 11, 303000),\n",
      " 'correction': [{'field': 'neural_net_file',\n",
      "                 'max': 6386.0,\n",
      "                 'min': 0.0,\n",
      "                 'value': 'NN_XENON1T_v5_n15.npz'},\n",
      "                {'field': 'neural_net_file',\n",
      "                 'max': inf,\n",
      "                 'min': 6386.0,\n",
      "                 'value': 'NN_XENON1T_v7_n15.npz'}],\n",
      " 'user': 'coderre',\n",
      " 'version': '1.3'}\n",
      "{'_id': ObjectId('59147eab93d9823c50baa9a1'),\n",
      " 'calculation_time': datetime.datetime(2017, 5, 11, 15, 9, 31, 890000),\n",
      " 'correction': [{'field': 'neural_net_file',\n",
      "                 'max': 6386.0,\n",
      "                 'min': 0.0,\n",
      "                 'value': 'NN_XENON1T_v5_n15.npz'},\n",
      "                {'field': 'neural_net_file',\n",
      "                 'max': inf,\n",
      "                 'min': 6386.0,\n",
      "                 'value': 'NN_XENON1T_v7_n15.npz'}],\n",
      " 'user': 'coderre',\n",
      " 'version': '1.1'}\n",
      "{'_id': ObjectId('58f771b7d22b32a23ca5e55a'),\n",
      " 'calculation_time': datetime.datetime(2017, 4, 19, 14, 18, 31, 271000),\n",
      " 'correction': [{'field': 'neural_net_file',\n",
      "                 'max': 6386.0,\n",
      "                 'min': 0.0,\n",
      "                 'value': 'NN_XENON1T_v5_n15.npz'},\n",
      "                {'field': 'neural_net_file',\n",
      "                 'max': inf,\n",
      "                 'min': 6386.0,\n",
      "                 'value': 'NN_XENON1T_v7_n15.npz'}],\n",
      " 'user': 'coderre',\n",
      " 'version': '1.0'}\n"
     ]
    }
   ],
   "source": [
    "# Check current docs\n",
    "for document in cursor:\n",
    "    pprint(document)"
   ]
  },
  {
   "cell_type": "code",
   "execution_count": 6,
   "metadata": {
    "collapsed": false
   },
   "outputs": [
    {
     "name": "stderr",
     "output_type": "stream",
     "text": [
      "/project/lgrandi/anaconda3/envs/pax_head/lib/python3.4/site-packages/ipykernel/__main__.py:2: DeprecationWarning: insert is deprecated. Use insert_one or insert_many instead.\n",
      "  from ipykernel import kernelapp as app\n"
     ]
    },
    {
     "data": {
      "text/plain": [
       "ObjectId('5b50b9983c1233a82b633dbe')"
      ]
     },
     "execution_count": 6,
     "metadata": {},
     "output_type": "execute_result"
    }
   ],
   "source": [
    "# Insert the doc into DB\n",
    "collection.insert(doc)"
   ]
  },
  {
   "cell_type": "code",
   "execution_count": null,
   "metadata": {
    "collapsed": true
   },
   "outputs": [],
   "source": []
  }
 ],
 "metadata": {
  "anaconda-cloud": {},
  "kernelspec": {
   "display_name": "Python 3",
   "language": "python",
   "name": "python3"
  },
  "language_info": {
   "codemirror_mode": {
    "name": "ipython",
    "version": 3
   },
   "file_extension": ".py",
   "mimetype": "text/x-python",
   "name": "python",
   "nbconvert_exporter": "python",
   "pygments_lexer": "ipython3",
   "version": "3.4.4"
  }
 },
 "nbformat": 4,
 "nbformat_minor": 1
}
